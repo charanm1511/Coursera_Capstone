{
 "cells": [
  {
   "cell_type": "markdown",
   "metadata": {},
   "source": [
    "# 2. Data :\n",
    "One city will be analysed in this project : Newyork City.\n",
    "We will be using the below datasets for analysing Newyork city\n",
    "### Data 1 : Neighborhood has a total of 5 boroughs and 306 neighborhoods.\n",
    "In order to segement the neighborhoods and explore them, we will essentially need a dataset that contains the 5 boroughs and\n",
    "the neighborhoods that exist in each borough as well as the the latitude and logitude coordinates of\n",
    "each neighborhood.\n",
    "This dataset exists for free on the web. Link to the dataset is :\n",
    "https://geo.nyu.edu/catalog/nyu_2451_34572\n",
    "### Data 2 : Second data which will be used is the DOHMH Farmers Markets and Food Boxes dataset. \n",
    "In this we will be using the data of Farmers Markets.\n",
    "https://data.cityofnewyork.us/dataset/DOHMH-Farmers-Markets-and-Food-Boxes/8vwk-6iz2\n",
    "Website-https://www.grownyc.org/greenmarketco/foodbox\n",
    "GrowNYC's Fresh Food Box Program is a food access initiative that enables under-served\n",
    "communities to purchase fresh, healthy, and primarily regionally grown produce well below\n",
    "traditional retail prices. \n",
    "A farmers' market is often defined as a public site used by two or more local or regional producers\n",
    "for the direct sale of farm products to consumers. In addition to fresh fruits and vegetables, markets\n",
    "may sell dairy products, fish, meat, baked goods, and other minimally processed foods."
   ]
  },
  {
   "cell_type": "code",
   "execution_count": null,
   "metadata": {},
   "outputs": [],
   "source": []
  }
 ],
 "metadata": {
  "kernelspec": {
   "display_name": "Python 3",
   "language": "python",
   "name": "python3"
  },
  "language_info": {
   "codemirror_mode": {
    "name": "ipython",
    "version": 3
   },
   "file_extension": ".py",
   "mimetype": "text/x-python",
   "name": "python",
   "nbconvert_exporter": "python",
   "pygments_lexer": "ipython3",
   "version": "3.6.5"
  }
 },
 "nbformat": 4,
 "nbformat_minor": 2
}
