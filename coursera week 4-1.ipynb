{
 "cells": [
  {
   "cell_type": "markdown",
   "metadata": {},
   "source": [
    "# The Battle of the Neighborhoods - Report\n",
    "## 1.Introduction & Business Problem :\n",
    "### Problem Background:\n",
    "\n",
    "The City of New York, is the most populous city in the United States. It is diverse and is the financial\n",
    "capital of USA. It is multicultural. It provides lot of business oppourtunities and business friendly\n",
    "environment. It has attracted many different players into the market. It is a global hub of business and\n",
    "commerce. The city is a major center for banking and finance, retailing, world trade, transportation,\n",
    "tourism, real estate, new media, traditional media, advertising, legal services, accountancy, insurance,\n",
    "theater, fashion, and the arts in the United States.\n",
    "This also means that the market is highly competitive. As it is highly developed city so cost of doing\n",
    "business is also one of the highest. Thus, any new business venture or expansion needs to be analysed\n",
    "carefully. The insights derived from analysis will give good understanding of the business\n",
    "environment which help in strategically targeting the market. This will help in reduction of risk. And\n",
    "the Return on Investment will be reasonable.\n",
    "\n",
    "Problem Description:\n",
    "\n",
    "A restaurant is a business which prepares and serves food and drink to customers in return for money,\n",
    "either paid before the meal, after the meal, or with an open account. The City of New York is famous\n",
    "for its excelllent cuisine. It's food culture includes an array of international cuisines influenced by the\n",
    "city's immigrant history.\n",
    "\n",
    "1. Central and Eastern European immigrants, especially Jewish immigrants - bagels, cheesecake,\n",
    "hot dogs, knishes, and delicatessens\n",
    "2. Italian immigrants - New York-style pizza and Italian cuisine\n",
    "3. Jewish immigrants and Irish immigrants - pastrami and corned beef\n",
    "4. Chinese and other Asian restaurants, sandwich joints, trattorias, diners, and coffeehouses are\n",
    "ubiquitous throughout the city\n",
    "5. mobile food vendors - Some 4,000 licensed by the city\n",
    "6. Middle Eastern foods such as falafel and kebabs examples of modern New York street food\n",
    "7. It is famous for not just Pizzerias, Cafe's but also for fine dining Michelin starred\n",
    "restaurants.The city is home to \"nearly one thousand of the finest and most diverse haute\n",
    "cuisine restaurants in the world\", according to Michelin.\n",
    "So it is evident that to survive in such competitive market it is very important to startegically plan.\n",
    "Various factors need to be studied inorder to decide on the Location such as :\n",
    "1. New York Population\n",
    "2. New York City Demographics\n",
    "3. Are there any Farmers Markets, Wholesale markets etc nearby so that the ingredients can be\n",
    "purchased fresh to maintain quality and cost?\n",
    "4. Are there any venues like Gyms, Entertainmnet zones, Parks etc nearby where floating\n",
    "population is high etc\n",
    "5. Who are the competitors in that location?\n",
    "6. Cuisine served / Menu of the competitors\n",
    "7. Segmentation of the Borough\n",
    "8. Untapped markets\n",
    "9. Saturated markets etc\n",
    "\n",
    "In this case study two such factor - Restaurant availability and farmer markets accesibility will be studied. \n"
   ]
  },
  {
   "cell_type": "code",
   "execution_count": null,
   "metadata": {},
   "outputs": [],
   "source": []
  }
 ],
 "metadata": {
  "kernelspec": {
   "display_name": "Python 3",
   "language": "python",
   "name": "python3"
  },
  "language_info": {
   "codemirror_mode": {
    "name": "ipython",
    "version": 3
   },
   "file_extension": ".py",
   "mimetype": "text/x-python",
   "name": "python",
   "nbconvert_exporter": "python",
   "pygments_lexer": "ipython3",
   "version": "3.6.5"
  }
 },
 "nbformat": 4,
 "nbformat_minor": 2
}
