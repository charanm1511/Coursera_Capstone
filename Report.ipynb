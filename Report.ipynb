{
 "cells": [
  {
   "cell_type": "markdown",
   "metadata": {},
   "source": [
    "# The Battle of the Neighborhoods - Report\n",
    "## 1.Introduction & Business Problem :\n",
    "### Problem Background:\n",
    "\n",
    "The City of New York, is the most populous city in the United States. It is diverse and is the financial\n",
    "capital of USA. It is multicultural. It provides lot of business oppourtunities and business friendly\n",
    "environment. It has attracted many different players into the market. It is a global hub of business and\n",
    "commerce. The city is a major center for banking and finance, retailing, world trade, transportation,\n",
    "tourism, real estate, new media, traditional media, advertising, legal services, accountancy, insurance,\n",
    "theater, fashion, and the arts in the United States.\n",
    "This also means that the market is highly competitive. As it is highly developed city so cost of doing\n",
    "business is also one of the highest. Thus, any new business venture or expansion needs to be analysed\n",
    "carefully. The insights derived from analysis will give good understanding of the business\n",
    "environment which help in strategically targeting the market. This will help in reduction of risk. And\n",
    "the Return on Investment will be reasonable.\n",
    "\n",
    "Problem Description:\n",
    "\n",
    "A restaurant is a business which prepares and serves food and drink to customers in return for money,\n",
    "either paid before the meal, after the meal, or with an open account. The City of New York is famous\n",
    "for its excelllent cuisine. It's food culture includes an array of international cuisines influenced by the\n",
    "city's immigrant history.\n",
    "\n",
    "1. Central and Eastern European immigrants, especially Jewish immigrants - bagels, cheesecake,\n",
    "hot dogs, knishes, and delicatessens\n",
    "2. Italian immigrants - New York-style pizza and Italian cuisine\n",
    "3. Jewish immigrants and Irish immigrants - pastrami and corned beef\n",
    "4. Chinese and other Asian restaurants, sandwich joints, trattorias, diners, and coffeehouses are\n",
    "ubiquitous throughout the city\n",
    "5. mobile food vendors - Some 4,000 licensed by the city\n",
    "6. Middle Eastern foods such as falafel and kebabs examples of modern New York street food\n",
    "7. It is famous for not just Pizzerias, Cafe's but also for fine dining Michelin starred\n",
    "restaurants.The city is home to \"nearly one thousand of the finest and most diverse haute\n",
    "cuisine restaurants in the world\", according to Michelin.\n",
    "So it is evident that to survive in such competitive market it is very important to startegically plan.\n",
    "Various factors need to be studied inorder to decide on the Location such as :\n",
    "1. New York Population\n",
    "2. New York City Demographics\n",
    "3. Are there any Farmers Markets, Wholesale markets etc nearby so that the ingredients can be\n",
    "purchased fresh to maintain quality and cost?\n",
    "4. Are there any venues like Gyms, Entertainmnet zones, Parks etc nearby where floating\n",
    "population is high etc\n",
    "5. Who are the competitors in that location?\n",
    "6. Cuisine served / Menu of the competitors\n",
    "7. Segmentation of the Borough\n",
    "8. Untapped markets\n",
    "9. Saturated markets etc\n",
    "\n",
    "In this case study two such factor - Restaurant availability and farmer markets accesibility will be studied. \n"
   ]
  },
  {
   "cell_type": "markdown",
   "metadata": {},
   "source": [
    "## 2. Data :\n",
    "One city will be analysed in this project : Newyork City. We will be using the below datasets for analysing Newyork city\n",
    "\n",
    "### Data 1 : Neighborhood has a total of 5 boroughs and 306 neighborhoods.\n",
    "In order to segement the neighborhoods and explore them, we will essentially need a dataset that contains the 5 boroughs and the neighborhoods that exist in each borough as well as the the latitude and logitude coordinates of each neighborhood. This dataset exists for free on the web. Link to the dataset is : https://geo.nyu.edu/catalog/nyu_2451_34572\n",
    "\n",
    "### Data 2 : Second data which will be used is the DOHMH Farmers Markets and Food Boxes dataset.\n",
    "In this we will be using the data of Farmers Markets. https://data.cityofnewyork.us/dataset/DOHMH-Farmers-Markets-and-Food-Boxes/8vwk-6iz2 Website-https://www.grownyc.org/greenmarketco/foodbox GrowNYC's Fresh Food Box Program is a food access initiative that enables under-served communities to purchase fresh, healthy, and primarily regionally grown produce well below traditional retail prices. A farmers' market is often defined as a public site used by two or more local or regional producers for the direct sale of farm products to consumers. In addition to fresh fruits and vegetables, markets may sell dairy products, fish, meat, baked goods, and other minimally processed foods.\n",
    "\n",
    "### Data 3 : Newyork city geographical coordinates data will be utilized as input for the Foursquare API,\n",
    "It will be leveraged to provision venues information for each neighborhood.We will use the\n",
    "Foursquare API to explore neighborhoods in New York City."
   ]
  },
  {
   "cell_type": "markdown",
   "metadata": {},
   "source": [
    "# 3.Methodology :\n",
    "##### Business Understanding :\n",
    "Our main goal is to get optimum location for new restaurant business in New York City"
   ]
  },
  {
   "cell_type": "markdown",
   "metadata": {},
   "source": [
    "#### Analytic Approach :\n",
    "New York city neighbourhood has a total of 5 boroughs and 306 neighborhoods. In this project first\n",
    "part is clustering of the first five neigborhoods . And second part is analyzing the farmer markets data in nyc. "
   ]
  },
  {
   "cell_type": "markdown",
   "metadata": {},
   "source": [
    "### Exploratory Data Analysis :\n",
    "#### Data 1- New york city Geographical Coordinates Data.\n",
    "1. In this we load the data and explore data from newyork_data.json file.\n",
    "2. Transform the data of nested python dictionaries into a pandas dataframe.\n",
    "3. This dataframe contains the geographical coordinates of New York city neighborhoods.\n",
    "4. This data will used to get Venues data from Fouresquare.\n",
    "5. We used geopy and folium libraries to create a map of New York city with neighborhoods\n",
    "   superimposed on top. "
   ]
  },
  {
   "cell_type": "markdown",
   "metadata": {},
   "source": [
    "<img src=\"1.png\">"
   ]
  },
  {
   "cell_type": "markdown",
   "metadata": {},
   "source": [
    "#### Data 2- Second data which is used is the DOHMH Farmers Markets and Food Boxes dataset. In this\n",
    "we will be using the data of Farmers Markets data.\n",
    "There are Farmers Markets in New York city. Highest number are in Manhattan and\n",
    "Brooklyn.\n",
    "And lowest in Queens, Bronx and Staten Island.\n",
    "The proof of this is as given below. "
   ]
  },
  {
   "cell_type": "markdown",
   "metadata": {},
   "source": [
    "#### Farmer Markets by Boroughs\n",
    "<img src=\"2 (2).png\">"
   ]
  },
  {
   "cell_type": "markdown",
   "metadata": {},
   "source": [
    "#### Farmer markets superimposed on the map of new york\n",
    "<img src=\"3.png\">"
   ]
  },
  {
   "cell_type": "markdown",
   "metadata": {},
   "source": [
    "#### Data 3 : NewYork city geographical coordinates data has be utilized as input for the Foursquare\n",
    "API, that has been leveraged to provision venues information for each neighborhood. We used the\n",
    "Foursquare API data to explore neighborhoods in New York City. \n"
   ]
  },
  {
   "cell_type": "markdown",
   "metadata": {},
   "source": [
    "#### The dataframe consisting of the venue data\n",
    "<img src=\"4.png\">"
   ]
  },
  {
   "cell_type": "markdown",
   "metadata": {},
   "source": [
    "# 4.RESULTS : \n"
   ]
  },
  {
   "cell_type": "markdown",
   "metadata": {},
   "source": [
    "From this venues data we filtered and used only the restaurant data for Brooklyn, Manhattan\n",
    ",Bronx, Queens and Staten Island clustering. As we focussed only on restaurants\n",
    "business.\n",
    "\n",
    "#### Neighborhood K-Means clustering based on mean occurrence of venue category :\n",
    "To cluster the neighborhoods into two clusters we used the K-Means clustering Algorithm. k-means\n",
    "clustering aims to partition n observations into k clusters in which each observation belongs to the\n",
    "cluster with the nearest mean. It uses iterative refinement app"
   ]
  },
  {
   "cell_type": "markdown",
   "metadata": {},
   "source": [
    "In the below Map Visualization, we can see the different types of clusters created by using K-Means"
   ]
  },
  {
   "cell_type": "markdown",
   "metadata": {},
   "source": [
    "<img src=\"5.png\">"
   ]
  },
  {
   "cell_type": "markdown",
   "metadata": {},
   "source": [
    "#### Cluster0 : The Total and Total Sum of cluster0 has smallest value. It shows that the market is not saturated.\n",
    "#### Cluster1 : The Total and Total Sum of cluster1 has highest value. It shows that the markets are saturated. Number of restaurants are very high. "
   ]
  },
  {
   "cell_type": "markdown",
   "metadata": {},
   "source": [
    "There are a few untapped markets i.e in cluster 0 for the following markets"
   ]
  },
  {
   "cell_type": "markdown",
   "metadata": {},
   "source": [
    "<img src=\"6.png\">"
   ]
  },
  {
   "cell_type": "markdown",
   "metadata": {},
   "source": [
    "# 6.CONCLUSION:\n",
    "\n",
    "This analysis is performed on limited data. This may be right or may be wrong. But if good amount of\n",
    "data is available there is scope to come up with better results. If there are lot of restaurants probably\n",
    "there is lot of demand. \n",
    "\n",
    "Brooklyn and Manhattan has high concentration of restaurant business. Very\n",
    "competitive market. Bronx, Queens and Staten Island also has good number of restaurants but not as\n",
    "many as required. So this can be explored.\n",
    "\n",
    "Clason Point, Todt Hill, Port Ivory, Rossville, Bloomfield could be possible neighborhoods to setup a restaurant as there is no competition. Further analysis is required on this front by considering the demographics of these neighborhoods. \n",
    "\n",
    "The neighborhoods in the cluster 1 are saturated markets, i.e, the competition is high and also the demand for restaurants seems to be high. The neighborhoods in the cluster 0 market seem to be less saturated.\n",
    "\n",
    "The farmer markets seem to be closer to the neighborhoods in the Boroughs Brooklyn and Manhattan."
   ]
  }
 ],
 "metadata": {
  "kernelspec": {
   "display_name": "Python 3",
   "language": "python",
   "name": "python3"
  },
  "language_info": {
   "codemirror_mode": {
    "name": "ipython",
    "version": 3
   },
   "file_extension": ".py",
   "mimetype": "text/x-python",
   "name": "python",
   "nbconvert_exporter": "python",
   "pygments_lexer": "ipython3",
   "version": "3.6.5"
  }
 },
 "nbformat": 4,
 "nbformat_minor": 2
}
